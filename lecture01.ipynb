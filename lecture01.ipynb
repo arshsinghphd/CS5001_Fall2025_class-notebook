{
 "cells": [
  {
   "cell_type": "markdown",
   "metadata": {
    "notebookRunGroups": {
     "groupValue": "1"
    }
   },
   "source": [
    "# Module 01 - CS 5001\n",
    "\n",
    "> A lady came up to the great violinist Fritz Kreisler after a concert and gushed, “Maestro, your violin makes such beautiful music.” Kreisler held his violin up to his ear and said, “I don’t hear any music coming out of it.”  - Dr. Melvin Kranzberg\n"
   ]
  },
  {
   "cell_type": "markdown",
   "metadata": {
    "notebookRunGroups": {
     "groupValue": "2"
    }
   },
   "source": [
    "## Six Laws of Technology\n",
    "\n",
    "1. Technology is neither good nor bad; nor is it neutral.\n",
    "   * Tech companies should try to anticipate how their tech can be used\n",
    "   * Should they even try? Do they have a social responsibility? \n",
    "2. Invention is the mother of necessity.\n",
    "   * Tech adds to tech. \n",
    "3. Technology comes in packages, big and small.\n",
    "   * From the nuclear bomb to the smart watch\n",
    "4. Although technology might be a prime element in many public issues, nontechnical factors take precedence in technology-policy decisions.\n",
    "   * Corollary - people who do not know about tech, make the laws about tech - unless we intervene\n",
    "5. All history is relevant, but the history of technology is the most relevant.\n",
    "   * As tech leads to tech\n",
    "6. **Technology is a very human activity.**\n"
   ]
  },
  {
   "cell_type": "markdown",
   "metadata": {},
   "source": [
    "## Your First Program\n",
    "\n",
    "* Python is set of instructions.\n",
    "* It is a limited grammar english.\n",
    "  * Meaning precision is essential. (a computer cannot guess at what you mean)\n",
    "* Learning to code is helping you use the instrument that is a computer. \n",
    "  * Like all instruments, it takes time to learn to play well. - practice, practice, practice. \n",
    "  \n",
    "\n",
    "> TASK: Open a new Python file in VS code  (follow along)\n",
    "> In the file type\n",
    "> ```python\n",
    "> print(\"Aloha, Your Name\") # using your name in place of your name\n",
    "> ```\n",
    "\n",
    "- Save the file as `hello.py`\n",
    "- Run the file by clicking the 'run' triangle in the top right."
   ]
  },
  {
   "cell_type": "markdown",
   "metadata": {},
   "source": [
    "### Strings and numbers\n",
    "\n",
    "* Numbers are numbers\n",
    "* Strings are text, but in quotes\n",
    "  * Else how does the language know it is a command or an actual value you want. \n",
    "\n",
    "\n",
    "### Values and Variables\n",
    "\n",
    "```python\n",
    "x = 5\n",
    "```\n",
    "\n",
    "* `x` is a variable\n",
    "* `5` is a value\n",
    "\n",
    "We are setting the variable `x` to the value `5`, so throughout our code we can use `x` in place of `5`.\n",
    "\n",
    "Let's try it. Type in your file, and run it when I run here. "
   ]
  },
  {
   "cell_type": "code",
   "execution_count": null,
   "metadata": {},
   "outputs": [],
   "source": []
  },
  {
   "cell_type": "markdown",
   "metadata": {},
   "source": [
    "## Operators \n",
    "\n",
    "* Operators are actions you can perform on values. \n",
    "\n",
    "* `+` addition\n",
    "* `-` subtraction\n",
    "* `*` multiplication\n",
    "* `/` division\n",
    "* `=` assignment\n",
    "\n",
    "We know those! Yes, equals `=` is an operation, it sets the value to a variable!\n",
    "\n",
    "However, python adds some additional operators that are not as common in math.\n",
    "\n",
    "* `**` exponentiation  (5 ** 2 = 25) or written in math notation $5^2$\n",
    "* `//` floor (round down) division  (5 // 2 = 2) or written in math notation $\\lfloor \\frac{5}{2} \\rfloor$\n",
    "* `%` modulo (remainder) division (5 % 2 = 1) or written in math notation $5 \\mod 2$"
   ]
  },
  {
   "cell_type": "markdown",
   "metadata": {},
   "source": [
    "### Wait? Modulo?\n",
    "\n",
    "Yes! Remember long division (way back to elementary school)? The remainder is the modulo.\n",
    "\n",
    "$$ 5 \\div 2 = 2 \\text{ remainder } 1 $$\n",
    "\n",
    "\n",
    "So `5 % 2` is `1`.\n",
    "\n",
    "Let's try the various math functions. "
   ]
  },
  {
   "cell_type": "code",
   "execution_count": null,
   "metadata": {},
   "outputs": [],
   "source": []
  },
  {
   "cell_type": "markdown",
   "metadata": {},
   "source": [
    "## Adding 'strings'\n",
    "\n",
    "* You can add strings together. This called 'concatenation'\n",
    "\n",
    "```python\n",
    "print(\"Aloha\" + \"World\")\n",
    "```\n",
    "\n",
    "Try this out, what does it print?\n",
    "\n"
   ]
  },
  {
   "cell_type": "code",
   "execution_count": null,
   "metadata": {},
   "outputs": [],
   "source": []
  },
  {
   "cell_type": "markdown",
   "metadata": {},
   "source": [
    "### What?!\n",
    "\n",
    "Computers **do not** understand context. \n",
    "\n",
    "* They only understand the instructions you give them.\n",
    "* So when you add two strings together, it just puts them together, it doesn't know you want a space. \n",
    "* It is our job to tell it what we want. \n",
    "\n"
   ]
  },
  {
   "cell_type": "code",
   "execution_count": null,
   "metadata": {},
   "outputs": [],
   "source": []
  },
  {
   "cell_type": "markdown",
   "metadata": {},
   "source": [
    "## Can we use other operators on strings?\n",
    "\n",
    "* Most of them, no. It doesn't make sense.\n",
    "* But you can multiply a string by a number. \n",
    "\n",
    "```python\n",
    "print(\"Aloha\" * 5)\n",
    "```\n",
    "\n",
    "What does this print?"
   ]
  },
  {
   "cell_type": "code",
   "execution_count": null,
   "metadata": {},
   "outputs": [],
   "source": []
  },
  {
   "cell_type": "markdown",
   "metadata": {},
   "source": [
    "## Vocab Recap\n",
    "\n",
    "* Variables\n",
    "* Operators\n",
    "* Types (strings and numbers)\n",
    "  * `str` means strings in python, `int` is integers (whole numbers), `float` is floating point numbers (decimals).\n",
    "\n",
    "\n",
    "> Discuss - Take a moment to discuss this vocabulary with your neighbors. This may feel 'simple' at first, or you may feel completely lost. Both are okay and NORMAL! Work together on building understanding. "
   ]
  },
  {
   "cell_type": "markdown",
   "metadata": {},
   "source": [
    "# Functions / Early Functions\n",
    "\n",
    "## Divide Conquer and Glue\n",
    "\n",
    "Programming is:\n",
    "\n",
    "* Taking large problems\n",
    "* Breaking them into smaller problems\n",
    "* Solving the smaller problems\n",
    "* Gluing the smaller solutions together until the large problem is solved.\n",
    "\n",
    "or\n",
    "\n",
    "* Divide  (breaking things apart)\n",
    "* Conquer (solving the smaller problems)\n",
    "* Glue (putting it back together)\n",
    "\n",
    "You also don't want to repeat yourself (termed D.R.Y. - Don't Repeat Yourself). As such, functions become critical!"
   ]
  },
  {
   "cell_type": "markdown",
   "metadata": {},
   "source": [
    "### Example \n",
    "\n",
    "The following code is **painful**."
   ]
  },
  {
   "cell_type": "code",
   "execution_count": null,
   "metadata": {},
   "outputs": [],
   "source": [
    "print(\"Aloha, World ++++\")\n",
    "\n",
    "char_str = \"+\" * 4\n",
    "print(f\"Aloha, World {char_str}\")\n",
    "\n",
    "char_str = \"+\" * 5\n",
    "print(f\"Aloha, World {char_str}\")\n",
    "\n",
    "char_str = \"+\" * 6\n",
    "print(f\"Aloha, World {char_str}\")"
   ]
  },
  {
   "cell_type": "markdown",
   "metadata": {},
   "source": [
    "What if I wanted to change the @ sign to a different character? I would have to change it in multiple places. \n",
    "\n",
    "As such a function can make us repeat less code.\n",
    "\n",
    "The syntax for a function is as follows:\n",
    "\n",
    "```text\n",
    "def function_name(parameters: type) -> return_type:\n",
    "    \"\"\"docstring\"\"\"\n",
    "    code block\n",
    "    return value\n",
    "```\n",
    "\n",
    "* `def` is the keyword to define a function\n",
    "* `function_name` is the name of the function\n",
    "* `parameters` are the values you pass into the function, can be multiple values, separated by commas\n",
    "  * We use : type to indicate the type of the parameter (optional, but industry standard)\n",
    "* `return_type` is the type of the value the function returns (optional, but industry standard)\n",
    "* `\"\"\"docstring\"\"\"` is a comment that describes what the function does (optional, but industry standard)\n",
    "* `code block` is the code that the function runs\n",
    "* `return value` is the value the function returns\n",
    "\n",
    "Let's work through one. You can put it in your `hello.py` file. "
   ]
  },
  {
   "cell_type": "code",
   "execution_count": 15,
   "metadata": {},
   "outputs": [],
   "source": [
    "def aloha_chars(number: int) -> str: \n",
    "    \"\"\"This function takes Aloha plus '+' signs equals to number.\n",
    "\n",
    "    Examples: aloha_chars(5), \"aloha +++++\"\n",
    "    Args:\n",
    "        number (int): the number of pluses i need\n",
    "\n",
    "    Returns:\n",
    "        str: aloha plus pluses\n",
    "    \"\"\"\n",
    "    pluses = '+' * number \n",
    "    return f\"Aloha {pluses}\""
   ]
  },
  {
   "cell_type": "code",
   "execution_count": null,
   "metadata": {},
   "outputs": [],
   "source": [
    "print(aloha_chars(5))\n",
    "print(aloha_chars(10))"
   ]
  },
  {
   "cell_type": "code",
   "execution_count": null,
   "metadata": {},
   "outputs": [],
   "source": [
    "help(print)"
   ]
  },
  {
   "cell_type": "markdown",
   "metadata": {},
   "source": [
    "### Returning to functions\n",
    "\n",
    "We will return to functions later (Module 03)! For now introducing them early, so we can break up assignments. \n",
    "\n",
    "### Now\n",
    "\n",
    "* Demonstration of using interactive mode in VS code.\n",
    "* Starting Homework 01 together. "
   ]
  }
 ],
 "metadata": {
  "kernelspec": {
   "display_name": "Python 3",
   "language": "python",
   "name": "python3"
  },
  "language_info": {
   "codemirror_mode": {
    "name": "ipython",
    "version": 3
   },
   "file_extension": ".py",
   "mimetype": "text/x-python",
   "name": "python",
   "nbconvert_exporter": "python",
   "pygments_lexer": "ipython3",
   "version": "3.12.1"
  }
 },
 "nbformat": 4,
 "nbformat_minor": 2
}
